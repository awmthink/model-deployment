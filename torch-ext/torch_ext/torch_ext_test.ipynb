{
 "cells": [
  {
   "cell_type": "code",
   "execution_count": 6,
   "metadata": {},
   "outputs": [],
   "source": [
    "import sys\n",
    "\n",
    "sys.path.append(\"../../build/tutorials/torch_ext\")"
   ]
  },
  {
   "cell_type": "code",
   "execution_count": 7,
   "metadata": {},
   "outputs": [],
   "source": [
    "import torch_ext"
   ]
  },
  {
   "cell_type": "code",
   "execution_count": 8,
   "metadata": {},
   "outputs": [
    {
     "data": {
      "text/plain": [
       "tensor([[0.2848, 0.7152],\n",
       "        [0.2069, 0.7931],\n",
       "        [0.4976, 0.5024]], device='cuda:0')"
      ]
     },
     "execution_count": 8,
     "metadata": {},
     "output_type": "execute_result"
    }
   ],
   "source": [
    "import torch\n",
    "\n",
    "t = torch.randn(3,2).cuda()\n",
    "\n",
    "torch.softmax(t, dim=-1)"
   ]
  },
  {
   "cell_type": "code",
   "execution_count": 9,
   "metadata": {},
   "outputs": [
    {
     "data": {
      "text/plain": [
       "tensor([[0.2848, 0.7152],\n",
       "        [0.2069, 0.7931],\n",
       "        [0.4976, 0.5024]], device='cuda:0')"
      ]
     },
     "execution_count": 9,
     "metadata": {},
     "output_type": "execute_result"
    }
   ],
   "source": [
    "torch_ext.softmax(t)"
   ]
  },
  {
   "cell_type": "code",
   "execution_count": 1,
   "metadata": {},
   "outputs": [],
   "source": [
    "from torch.utils.cpp_extension import BuildExtension, CUDAExtension, CppExtension"
   ]
  },
  {
   "cell_type": "code",
   "execution_count": 3,
   "metadata": {},
   "outputs": [
    {
     "name": "stdout",
     "output_type": "stream",
     "text": [
      "['/home/yangyansheng/miniconda3/envs/pyml/lib/python3.10/site-packages/torch/include', '/home/yangyansheng/miniconda3/envs/pyml/lib/python3.10/site-packages/torch/include/torch/csrc/api/include', '/home/yangyansheng/miniconda3/envs/pyml/lib/python3.10/site-packages/torch/include/TH', '/home/yangyansheng/miniconda3/envs/pyml/lib/python3.10/site-packages/torch/include/THC']\n",
      "['/home/yangyansheng/miniconda3/envs/pyml/lib/python3.10/site-packages/torch/lib']\n"
     ]
    }
   ],
   "source": [
    "from torch.utils import cpp_extension\n",
    "\n",
    "print(cpp_extension.include_paths())\n",
    "print(cpp_extension.library_paths())"
   ]
  }
 ],
 "metadata": {
  "kernelspec": {
   "display_name": "pyml",
   "language": "python",
   "name": "python3"
  },
  "language_info": {
   "codemirror_mode": {
    "name": "ipython",
    "version": 3
   },
   "file_extension": ".py",
   "mimetype": "text/x-python",
   "name": "python",
   "nbconvert_exporter": "python",
   "pygments_lexer": "ipython3",
   "version": "3.10.13"
  }
 },
 "nbformat": 4,
 "nbformat_minor": 2
}
