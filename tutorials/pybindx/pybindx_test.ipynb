{
 "cells": [
  {
   "cell_type": "code",
   "execution_count": 1,
   "metadata": {},
   "outputs": [],
   "source": [
    "import sys\n",
    "\n",
    "sys.path.append(\"../../build/tutorials/pybindx/\")"
   ]
  },
  {
   "cell_type": "code",
   "execution_count": 2,
   "metadata": {},
   "outputs": [
    {
     "data": {
      "text/plain": [
       "['/home/yangyansheng/workspace/pyml/model-deployment/tutorials/pybindx',\n",
       " '/home/yangyansheng/miniconda3/envs/pyml/lib/python310.zip',\n",
       " '/home/yangyansheng/miniconda3/envs/pyml/lib/python3.10',\n",
       " '/home/yangyansheng/miniconda3/envs/pyml/lib/python3.10/lib-dynload',\n",
       " '',\n",
       " '/home/yangyansheng/miniconda3/envs/pyml/lib/python3.10/site-packages',\n",
       " '/home/yangyansheng/workspace/llm/opencompass',\n",
       " '../../build/tutorials/pybindx/']"
      ]
     },
     "execution_count": 2,
     "metadata": {},
     "output_type": "execute_result"
    }
   ],
   "source": [
    "sys.path"
   ]
  },
  {
   "cell_type": "code",
   "execution_count": 3,
   "metadata": {},
   "outputs": [],
   "source": [
    "import pybindx"
   ]
  },
  {
   "cell_type": "code",
   "execution_count": 5,
   "metadata": {},
   "outputs": [
    {
     "name": "stdout",
     "output_type": "stream",
     "text": [
      "Number of dimensions: 2\n",
      "Shape: 3 4 \n",
      "ItemSize: 4\n"
     ]
    }
   ],
   "source": [
    "import numpy as np\n",
    "\n",
    "arr = np.arange(12).reshape((3, 4))\n",
    "\n",
    "pybindx.print_array_info_buffer(arr)"
   ]
  },
  {
   "cell_type": "code",
   "execution_count": 6,
   "metadata": {},
   "outputs": [
    {
     "data": {
      "text/plain": [
       "array([[ 0.,  4.,  8.],\n",
       "       [ 1.,  5.,  9.],\n",
       "       [ 2.,  6., 10.],\n",
       "       [ 3.,  7., 11.]], dtype=float32)"
      ]
     },
     "execution_count": 6,
     "metadata": {},
     "output_type": "execute_result"
    }
   ],
   "source": [
    "pybindx.transpose2d(arr)"
   ]
  },
  {
   "cell_type": "code",
   "execution_count": 7,
   "metadata": {},
   "outputs": [
    {
     "data": {
      "text/plain": [
       "array([[  0.,   1.,   4.,   9.],\n",
       "       [ 16.,  25.,  36.,  49.],\n",
       "       [ 64.,  81., 100., 121.]], dtype=float32)"
      ]
     },
     "execution_count": 7,
     "metadata": {},
     "output_type": "execute_result"
    }
   ],
   "source": [
    "arr = arr.astype(\"float32\")\n",
    "pybindx.array_square(arr)\n",
    "arr"
   ]
  },
  {
   "cell_type": "code",
   "execution_count": 8,
   "metadata": {},
   "outputs": [
    {
     "data": {
      "text/plain": [
       "(42, 3.140000104904175, 1.0, 'hello', True)"
      ]
     },
     "execution_count": 8,
     "metadata": {},
     "output_type": "execute_result"
    }
   ],
   "source": [
    "pybindx.get_basic_types()"
   ]
  },
  {
   "cell_type": "code",
   "execution_count": 9,
   "metadata": {},
   "outputs": [
    {
     "name": "stdout",
     "output_type": "stream",
     "text": [
      "<class 'int'>\n",
      "<class 'float'>\n",
      "<class 'float'>\n",
      "<class 'str'>\n",
      "<class 'bool'>\n"
     ]
    }
   ],
   "source": [
    "for v in pybindx.get_basic_types():\n",
    "    print(type(v))"
   ]
  },
  {
   "cell_type": "code",
   "execution_count": 10,
   "metadata": {},
   "outputs": [
    {
     "name": "stdout",
     "output_type": "stream",
     "text": [
      "b'# Available at setup time due to pyproject.toml\\nfrom pybind11.setup_helpers import Pybind11Extension, build_ext\\nfrom setuptools import setup\\n\\n__version__ = \"0.0.1\"\\n\\n# The main interface is through Pybind11Extension.\\n# * You can add cxx_std=11/14/17, and then build_ext can be removed.\\n# * You can set include_pybind11=false to add the include directory yourself,\\n#   say from a submodule.\\n#\\n# Note:\\n#   Sort input source files if you glob sources to ensure bit-for-bit\\n#   reproducible builds (https://github.com/pybind/python_example/pull/53)\\n\\next_modules = [\\n    Pybind11Extension(\\n        \"pybindx\",\\n        [\"pybindx.cpp\"],\\n        # Example: passing in the version to the compiled code\\n        define_macros=[(\"VERSION_INFO\", __version__)],\\n    ),\\n]\\n\\nsetup(\\n    name=\"pybindx\",\\n    version=__version__,\\n    author=\"awmthink\",\\n    author_email=\"awmthink@outlook.com\",\\n    url=\"https://github.com/awmthink/model-deployment/tutorials/pybindx\",\\n    description=\"A examples project using pybind11\",\\n    long_description=\"\",\\n    ext_modules=ext_modules,\\n    extras_require={\"test\": \"pytest\"},\\n    # Currently, build_ext only provides an optional \"highest supported C++\\n    # level\" feature, but in the future it may provide more features.\\n    cmdclass={\"build_ext\": build_ext},\\n    zip_safe=False,\\n    python_requires=\">=3.10\",\\n)\\n'\n"
     ]
    }
   ],
   "source": [
    "contents = pybindx.read_file_bytes(\"./setup.py\")\n",
    "print(contents)"
   ]
  },
  {
   "cell_type": "code",
   "execution_count": 11,
   "metadata": {},
   "outputs": [
    {
     "name": "stdout",
     "output_type": "stream",
     "text": [
      "# Available at setup time due to pyproject.toml\n",
      "from pybind11.setup_helpers import Pybind11Extension, build_ext\n",
      "from setuptools import setup\n",
      "\n",
      "__version__ = \"0.0.1\"\n",
      "\n",
      "# The main interface is through Pybind11Extension.\n",
      "# * You can add cxx_std=11/14/17, and then build_ext can be removed.\n",
      "# * You can set include_pybind11=false to add the include directory yourself,\n",
      "#   say from a submodule.\n",
      "#\n",
      "# Note:\n",
      "#   Sort input source files if you glob sources to ensure bit-for-bit\n",
      "#   reproducible builds (https://github.com/pybind/python_example/pull/53)\n",
      "\n",
      "ext_modules = [\n",
      "    Pybind11Extension(\n",
      "        \"pybindx\",\n",
      "        [\"pybindx.cpp\"],\n",
      "        # Example: passing in the version to the compiled code\n",
      "        define_macros=[(\"VERSION_INFO\", __version__)],\n",
      "    ),\n",
      "]\n",
      "\n",
      "setup(\n",
      "    name=\"pybindx\",\n",
      "    version=__version__,\n",
      "    author=\"awmthink\",\n",
      "    author_email=\"awmthink@outlook.com\",\n",
      "    url=\"https://github.com/awmthink/model-deployment/tutorials/pybindx\",\n",
      "    description=\"A examples project using pybind11\",\n",
      "    long_description=\"\",\n",
      "    ext_modules=ext_modules,\n",
      "    extras_require={\"test\": \"pytest\"},\n",
      "    # Currently, build_ext only provides an optional \"highest supported C++\n",
      "    # level\" feature, but in the future it may provide more features.\n",
      "    cmdclass={\"build_ext\": build_ext},\n",
      "    zip_safe=False,\n",
      "    python_requires=\">=3.10\",\n",
      ")\n",
      "\n"
     ]
    }
   ],
   "source": [
    "print(contents.decode(\"utf-8\"))"
   ]
  },
  {
   "cell_type": "code",
   "execution_count": 12,
   "metadata": {},
   "outputs": [],
   "source": [
    "matrix = pybindx.Matrix(rows=4, cols=5)"
   ]
  },
  {
   "cell_type": "code",
   "execution_count": 13,
   "metadata": {},
   "outputs": [
    {
     "data": {
      "text/plain": [
       "5"
      ]
     },
     "execution_count": 13,
     "metadata": {},
     "output_type": "execute_result"
    }
   ],
   "source": [
    "matrix.ncols"
   ]
  },
  {
   "cell_type": "code",
   "execution_count": 14,
   "metadata": {},
   "outputs": [
    {
     "data": {
      "text/plain": [
       "4"
      ]
     },
     "execution_count": 14,
     "metadata": {},
     "output_type": "execute_result"
    }
   ],
   "source": [
    "matrix.nrows"
   ]
  },
  {
   "cell_type": "code",
   "execution_count": 15,
   "metadata": {},
   "outputs": [
    {
     "name": "stdout",
     "output_type": "stream",
     "text": [
      "1.877511250285877e-38\n",
      "0.0\n",
      "0.0\n",
      "0.0\n",
      "0.0\n",
      "0.0\n",
      "0.0\n",
      "0.0\n",
      "0.0\n",
      "4.5615067610701445e-41\n",
      "2.033572440163337e+20\n",
      "2.139231620423182e+23\n",
      "5.2431619934623086e-08\n",
      "1.0739358913269825e-05\n",
      "7.987836219208468e+20\n",
      "1.0186782840870823e-11\n",
      "5.2475307654731296e-08\n",
      "1.038497422974338e+21\n",
      "2.566719503604986e-09\n",
      "4.5615067610701445e-41\n"
     ]
    }
   ],
   "source": [
    "for i in range(matrix.nrows):\n",
    "    for j in range(matrix.ncols):\n",
    "        print(matrix[i, j])"
   ]
  }
 ],
 "metadata": {
  "kernelspec": {
   "display_name": "pyml",
   "language": "python",
   "name": "python3"
  },
  "language_info": {
   "codemirror_mode": {
    "name": "ipython",
    "version": 3
   },
   "file_extension": ".py",
   "mimetype": "text/x-python",
   "name": "python",
   "nbconvert_exporter": "python",
   "pygments_lexer": "ipython3",
   "version": "3.10.13"
  }
 },
 "nbformat": 4,
 "nbformat_minor": 2
}
